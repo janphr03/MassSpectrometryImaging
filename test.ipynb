{
 "cells": [
  {
   "cell_type": "code",
   "id": "initial_id",
   "metadata": {
    "collapsed": true,
    "ExecuteTime": {
     "end_time": "2025-10-04T20:08:25.037510Z",
     "start_time": "2025-10-04T20:08:25.032805Z"
    }
   },
   "source": "print(\"Test\")\n",
   "outputs": [
    {
     "name": "stdout",
     "output_type": "stream",
     "text": [
      "Test\n"
     ]
    }
   ],
   "execution_count": 1
  },
  {
   "metadata": {
    "ExecuteTime": {
     "end_time": "2025-10-05T09:48:20.999509Z",
     "start_time": "2025-10-05T09:48:19.582258Z"
    }
   },
   "cell_type": "code",
   "source": [
    "import scipy\n",
    "ims_cube = scipy.io.loadmat(\"ims_cube.mat\")['ims_cube']"
   ],
   "id": "e76e503cd78eb5bc",
   "outputs": [],
   "execution_count": 4
  }
 ],
 "metadata": {
  "kernelspec": {
   "display_name": "Python 3",
   "language": "python",
   "name": "python3"
  },
  "language_info": {
   "codemirror_mode": {
    "name": "ipython",
    "version": 2
   },
   "file_extension": ".py",
   "mimetype": "text/x-python",
   "name": "python",
   "nbconvert_exporter": "python",
   "pygments_lexer": "ipython2",
   "version": "2.7.6"
  }
 },
 "nbformat": 4,
 "nbformat_minor": 5
}
